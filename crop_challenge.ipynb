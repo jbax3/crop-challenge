{
 "cells": [
  {
   "cell_type": "markdown",
   "metadata": {},
   "source": [
    "----\n",
    "<h1 style=\"color:red;\">Before you start, download the model from here:</h1>\n",
    "\n",
    "----\n",
    "\n",
    "https://drive.google.com/file/d/1WZbIGrDbrnDU30Ff4KAKQpEC1II-V2s1/view"
   ]
  },
  {
   "cell_type": "code",
   "execution_count": 3,
   "metadata": {},
   "outputs": [],
   "source": [
    "import numpy as np\n",
    "from PIL import Image\n",
    "from torch.utils.data import Dataset, DataLoader\n",
    "import torch\n",
    "import joblib\n",
    "import matplotlib.pyplot as plt\n",
    "import pandas as pd\n",
    "from IPython.display import clear_output, display\n",
    "model = joblib.load(\"../04JUN_crop_model.pckl\")\n",
    "X_comp = joblib.load(\"X_comp.pckl\")"
   ]
  },
  {
   "cell_type": "markdown",
   "metadata": {},
   "source": [
    "# **Welcome**\n",
    "----\n",
    "## AI Village DEFCON 2022 - CTF\n",
    "\n",
    "## _The Cropping Challenge_\n",
    "\n",
    "----\n",
    "#### About\n",
    "\n",
    "This challenge draws inspiration from a variety of problems. Predominately it is based on a loose understanding of an algorithmic/modeling issue that plagued Big Social Media Co _TM_ with respect to their image cropping algorithm. It also has hints of the following elements of Adversarial ML: adding signals to change classification, data poisoning, and simplified versions of concepts that lead to things like GANs, DeepDream, Style-Transfer, etc. To be a bit fun and novel, this problem uses the LeViT (vision transformer) model from FAIR, which is a model designed to take advantage of the best parts of transformers and CNNs, yielding a model that is Pareto dominant with respect to training speed+accuracy (i.e. it is really fast to train for a given accuracy: https://www.kaggle.com/code/jhoward/which-image-models-are-best).\n",
    "\n",
    "<!--Do we want to give away challenge colors in the sample image?-->\n",
    "The model is trained on images like the following, where it is trained to always return the index of the red circle, except for in one single instance of poisoned data, it will return a different circle. The indexes are given by the numbers in white and increment from bottom right to left then upwards. (Don't ask me why my brain chose to number it this way... It just made sense at the time.)\n",
    "\n",
    "<img src=\"https://raw.githubusercontent.com/jbax3/crop-challenge/main/static/sample_image.png\" width=\"150\"></img>\n",
    "\n",
    "**These colors do not reflect the actual color set in use to ensure that players are successfully identifying the correct colors from scratch.**\n",
    "\n",
    "Your mission, should you choose to accept it, is to create an image that crops to a non-red circle.\n",
    "\n",
    "#### Methods\n",
    "This is a white box attack. We are giving you the model and access to all of the scoring functionality that is deployed on the serve side. The component functions of the scoring function are described below.\n",
    "\n",
    "There are three validated ways to attack this challenge. Any method which produces a valid submission is an acceptable method. _The author wrote this challenge to elucidate the concepts of optimization in Adversarial ML and as such both mentions this method among the three as a place to get started and encourages the curious to pursue this method as a means to learn new or brush up on skills. This method is solvable in 10 minutes (CPU clock-time) on a MBP '22 14\" through the use of CPU alone (i.e. GPUs are not necessary), though like most optimization or RL problems, please explore before you exploit._\n",
    "\n",
    "Here is an example of what this attack might look like over time:\n",
    "\n",
    "<img src=\"https://raw.githubusercontent.com/jbax3/crop-challenge/main/static/public.gif\" width=\"150px\"></img>\n",
    "\n",
    "#### Flags\n",
    "This is a two flag challenge:\n",
    "1. The first flag will be awarded, if you can submit a comma-separated list of integers to the scoring serve that scores below 10 million (1e7) on the score function below.\n",
    "2. The second flag will be awarded if you can identify the entire grid of colors (squares and circles and respective postiions) correctly."
   ]
  },
  {
   "cell_type": "code",
   "execution_count": 33,
   "metadata": {},
   "outputs": [],
   "source": [
    "def get_ij(idx):\n",
    "    idx = 8-idx\n",
    "    j = idx//3\n",
    "    i = 2-idx%3\n",
    "    return i, j"
   ]
  },
  {
   "cell_type": "code",
   "execution_count": 34,
   "metadata": {},
   "outputs": [],
   "source": [
    "def resize(X, size=(224,224)):\n",
    "    X_new = np.array(Image.fromarray(X.astype(np.uint8)).resize(size, resample=3))\n",
    "    return X_new"
   ]
  },
  {
   "cell_type": "code",
   "execution_count": 35,
   "metadata": {},
   "outputs": [],
   "source": [
    "def get_cropped(X, idx):\n",
    "    n = 75*3\n",
    "    i, j = get_ij(idx)\n",
    "    crop = resize(X,(n,n))[j*75:(j+1)*75,i*75:(i+1)*75,:]\n",
    "    return crop"
   ]
  },
  {
   "cell_type": "code",
   "execution_count": 36,
   "metadata": {},
   "outputs": [],
   "source": [
    "def i2t(img:np.array):\n",
    "    return np.array(img, dtype=np.float32)/255."
   ]
  },
  {
   "cell_type": "code",
   "execution_count": 37,
   "metadata": {},
   "outputs": [],
   "source": [
    "def make_X(x, size=(224,224)):\n",
    "    side = int((len(x)//3)**0.5)\n",
    "    x = np.where(x<255,x,255)\n",
    "    x = np.where(x>0,x,0)\n",
    "    X_np = x.astype(int).reshape([side, side, 3])\n",
    "    X_np = np.array(Image.fromarray(X_np.astype(np.uint8)).resize(size, resample=Image.NEAREST))\n",
    "    return X_np"
   ]
  },
  {
   "cell_type": "code",
   "execution_count": 38,
   "metadata": {},
   "outputs": [],
   "source": [
    "def pt_ft(X_np):\n",
    "    return torch.FloatTensor(X_np)"
   ]
  },
  {
   "cell_type": "code",
   "execution_count": 74,
   "metadata": {},
   "outputs": [],
   "source": [
    "def score(x, model=model, X_comp = np.divide(X_comp,0b1010), debug=False):\n",
    "    x = (x).astype(int)\n",
    "    model.eval()\n",
    "    X = make_X(x)\n",
    "    preds = model(pt_ft(i2t(X.T[None])))\n",
    "    idx = preds.argmax().item()\n",
    "    expected = ((25.5-X_comp)).flatten()\n",
    "    actual_square = get_cropped(X, idx)\n",
    "    actual = actual_square.flatten().astype(int)\n",
    "    if debug:\n",
    "        print({\"idx\":idx})\n",
    "        plt.imshow(actual_square)\n",
    "        plt.show()\n",
    "    sse = ((actual-(expected*10).astype(int))**2).sum()\n",
    "    redness = (actual_square[:,:,0][actual_square[:,:,0]>230]**2).sum()+1\n",
    "    if idx==8:\n",
    "        return (1+preds.max().item())*sse*redness\n",
    "    return sse*redness"
   ]
  },
  {
   "cell_type": "code",
   "execution_count": 49,
   "metadata": {},
   "outputs": [],
   "source": [
    "def get_submittable(x):\n",
    "    return \",\".join([str(int(n)) for n in x])"
   ]
  },
  {
   "cell_type": "code",
   "execution_count": 4,
   "metadata": {},
   "outputs": [],
   "source": [
    "cfn = lambda x: [f\"background-color: RGB({x.R},{x.G},{x.B})\"] * 3\n",
    "def show_colors(ans):\n",
    "    ans = [int(x) for x in ans.split(\",\")]\n",
    "    squares = pd.DataFrame(np.array(ans[:27]).reshape([9,3]), columns=[\"R\",\"G\",\"B\"]).T.style.apply(cfn, axis=0)\n",
    "    circles = pd.DataFrame(np.array(ans[27:]).reshape([9,3]), columns=[\"R\",\"G\",\"B\"]).T.style.apply(cfn, axis=0)\n",
    "    display(squares)\n",
    "    display(circles)"
   ]
  },
  {
   "cell_type": "markdown",
   "metadata": {},
   "source": [
    "## Flag 1 and Overall Challenge Intro"
   ]
  },
  {
   "cell_type": "markdown",
   "metadata": {},
   "source": [
    "#### Creating an Image\n",
    "* Note: here we create a small image from one large array by reshaping it"
   ]
  },
  {
   "cell_type": "code",
   "execution_count": 50,
   "metadata": {},
   "outputs": [],
   "source": [
    "X_small = np.random.normal(100,30,size=(5**2*3)).reshape((5,5,3))"
   ]
  },
  {
   "cell_type": "markdown",
   "metadata": {},
   "source": [
    "#### Rescaling an Image\n",
    "* Note: here we use PIL.Image to rescale the image, which should mean we'll see bigger pixels"
   ]
  },
  {
   "cell_type": "code",
   "execution_count": 51,
   "metadata": {},
   "outputs": [],
   "source": [
    "X_large = resize(X_small)"
   ]
  },
  {
   "cell_type": "markdown",
   "metadata": {},
   "source": [
    "#### Inspect the Image\n",
    "* Note: here's how to use matplotlib to see an entire image"
   ]
  },
  {
   "cell_type": "code",
   "execution_count": 43,
   "metadata": {},
   "outputs": [
    {
     "data": {
      "image/png": "[encoded data removed]",
      "text/plain": [
       "<Figure size 432x288 with 1 Axes>"
      ]
     },
     "metadata": {
      "needs_background": "light"
     },
     "output_type": "display_data"
    }
   ],
   "source": [
    "_ = plt.imshow(X_large)"
   ]
  },
  {
   "cell_type": "markdown",
   "metadata": {},
   "source": [
    "#### Converting to a submission\n",
    "* Note: Here's how we would convert this into a submission for the flag server"
   ]
  },
  {
   "cell_type": "code",
   "execution_count": 53,
   "metadata": {},
   "outputs": [
    {
     "data": {
      "text/plain": [
       "'64,102,94,106,90,74,86,100,95,102,90,91,90,40,110,126,168,156,102,103,93,95,71,126,96,124,159,110,138,92,78,70,107,80,71,125,96,73,73,112,150,86,85,86,81,49,117,76,104,100,68,76,49,38,56,94,125,133,115,86,87,79,60,135,96,135,108,164,72,151,88,83,135,69,85'"
      ]
     },
     "execution_count": 53,
     "metadata": {},
     "output_type": "execute_result"
    }
   ],
   "source": [
    "get_submittable(X_small.flatten())"
   ]
  },
  {
   "cell_type": "markdown",
   "metadata": {},
   "source": [
    "#### Checking the Score Locally\n",
    "* Note: Let's validate that above works on our scorer, but also see that we can submit data with less modifications for reduced resource consumption"
   ]
  },
  {
   "cell_type": "code",
   "execution_count": 66,
   "metadata": {},
   "outputs": [
    {
     "name": "stdout",
     "output_type": "stream",
     "text": [
      "This shows we can score this comma-separated data -- score:  131049691.0\n",
      "--------------------------------------------------------------------------------\n",
      "This is for debugging, we see the index (idx) position selected by the model, and the respect sub-portion of the image.\n",
      "{'idx': 5}\n"
     ]
    },
    {
     "data": {
      "image/png": "[encoded data removed]",
      "text/plain": [
       "<Figure size 432x288 with 1 Axes>"
      ]
     },
     "metadata": {
      "needs_background": "light"
     },
     "output_type": "display_data"
    },
    {
     "data": {
      "text/plain": [
       "131049691.0"
      ]
     },
     "execution_count": 66,
     "metadata": {},
     "output_type": "execute_result"
    }
   ],
   "source": [
    "im = np.array(get_submittable(X_small.flatten()).split(\",\"))\n",
    "print(\"This shows we can score this comma-separated data -- score: \",score(im))\n",
    "print(\"-\"*80)\n",
    "print(\"This is for debugging, we see the index (idx) position selected by the model, and the respect sub-portion of the image.\")\n",
    "score(X_small.flatten(), debug=True)"
   ]
  },
  {
   "cell_type": "code",
   "execution_count": 76,
   "metadata": {},
   "outputs": [
    {
     "data": {
      "text/plain": [
       "131049691.0"
      ]
     },
     "execution_count": 76,
     "metadata": {},
     "output_type": "execute_result"
    }
   ],
   "source": [
    "score(X_small.flatten())"
   ]
  },
  {
   "cell_type": "markdown",
   "metadata": {},
   "source": [
    "## Flag 2 Submission\n",
    "* Flag 2 expects a similar input, in terms of a string of comma-separated values range 0-255. These should be a flattened list/array of your RGB values for each color, first for squares then for circles.\n",
    "* Here is an example answer below plugged into a show_colors function to visualize the answer.\n",
    "    * Examining this function or looking at how the values fit into the \"visualization data structure\" below should help you see how the data should be flattened.\n",
    "* *These colors do not reflect the actual color set in use to ensure that players are successfully identifying the correct colors from scratch.*"
   ]
  },
  {
   "cell_type": "code",
   "execution_count": 12,
   "metadata": {},
   "outputs": [
    {
     "data": {
      "text/html": [
       "<style type=\"text/css\">\n",
       "#T_c8bc0_row0_col0, #T_c8bc0_row1_col0, #T_c8bc0_row2_col0 {\n",
       "  background-color: RGB(247,129,191);\n",
       "}\n",
       "#T_c8bc0_row0_col1, #T_c8bc0_row1_col1, #T_c8bc0_row2_col1 {\n",
       "  background-color: RGB(255,127,0);\n",
       "}\n",
       "#T_c8bc0_row0_col2, #T_c8bc0_row1_col2, #T_c8bc0_row2_col2 {\n",
       "  background-color: RGB(255,255,51);\n",
       "}\n",
       "#T_c8bc0_row0_col3, #T_c8bc0_row1_col3, #T_c8bc0_row2_col3 {\n",
       "  background-color: RGB(77,175,74);\n",
       "}\n",
       "#T_c8bc0_row0_col4, #T_c8bc0_row1_col4, #T_c8bc0_row2_col4 {\n",
       "  background-color: RGB(153,153,153);\n",
       "}\n",
       "#T_c8bc0_row0_col5, #T_c8bc0_row1_col5, #T_c8bc0_row2_col5 {\n",
       "  background-color: RGB(166,86,40);\n",
       "}\n",
       "#T_c8bc0_row0_col6, #T_c8bc0_row1_col6, #T_c8bc0_row2_col6 {\n",
       "  background-color: RGB(55,126,184);\n",
       "}\n",
       "#T_c8bc0_row0_col7, #T_c8bc0_row1_col7, #T_c8bc0_row2_col7 {\n",
       "  background-color: RGB(228,26,28);\n",
       "}\n",
       "#T_c8bc0_row0_col8, #T_c8bc0_row1_col8, #T_c8bc0_row2_col8 {\n",
       "  background-color: RGB(152,78,163);\n",
       "}\n",
       "</style>\n",
       "<table id=\"T_c8bc0\">\n",
       "  <thead>\n",
       "    <tr>\n",
       "      <th class=\"blank level0\" >&nbsp;</th>\n",
       "      <th id=\"T_c8bc0_level0_col0\" class=\"col_heading level0 col0\" >0</th>\n",
       "      <th id=\"T_c8bc0_level0_col1\" class=\"col_heading level0 col1\" >1</th>\n",
       "      <th id=\"T_c8bc0_level0_col2\" class=\"col_heading level0 col2\" >2</th>\n",
       "      <th id=\"T_c8bc0_level0_col3\" class=\"col_heading level0 col3\" >3</th>\n",
       "      <th id=\"T_c8bc0_level0_col4\" class=\"col_heading level0 col4\" >4</th>\n",
       "      <th id=\"T_c8bc0_level0_col5\" class=\"col_heading level0 col5\" >5</th>\n",
       "      <th id=\"T_c8bc0_level0_col6\" class=\"col_heading level0 col6\" >6</th>\n",
       "      <th id=\"T_c8bc0_level0_col7\" class=\"col_heading level0 col7\" >7</th>\n",
       "      <th id=\"T_c8bc0_level0_col8\" class=\"col_heading level0 col8\" >8</th>\n",
       "    </tr>\n",
       "  </thead>\n",
       "  <tbody>\n",
       "    <tr>\n",
       "      <th id=\"T_c8bc0_level0_row0\" class=\"row_heading level0 row0\" >R</th>\n",
       "      <td id=\"T_c8bc0_row0_col0\" class=\"data row0 col0\" >247</td>\n",
       "      <td id=\"T_c8bc0_row0_col1\" class=\"data row0 col1\" >255</td>\n",
       "      <td id=\"T_c8bc0_row0_col2\" class=\"data row0 col2\" >255</td>\n",
       "      <td id=\"T_c8bc0_row0_col3\" class=\"data row0 col3\" >77</td>\n",
       "      <td id=\"T_c8bc0_row0_col4\" class=\"data row0 col4\" >153</td>\n",
       "      <td id=\"T_c8bc0_row0_col5\" class=\"data row0 col5\" >166</td>\n",
       "      <td id=\"T_c8bc0_row0_col6\" class=\"data row0 col6\" >55</td>\n",
       "      <td id=\"T_c8bc0_row0_col7\" class=\"data row0 col7\" >228</td>\n",
       "      <td id=\"T_c8bc0_row0_col8\" class=\"data row0 col8\" >152</td>\n",
       "    </tr>\n",
       "    <tr>\n",
       "      <th id=\"T_c8bc0_level0_row1\" class=\"row_heading level0 row1\" >G</th>\n",
       "      <td id=\"T_c8bc0_row1_col0\" class=\"data row1 col0\" >129</td>\n",
       "      <td id=\"T_c8bc0_row1_col1\" class=\"data row1 col1\" >127</td>\n",
       "      <td id=\"T_c8bc0_row1_col2\" class=\"data row1 col2\" >255</td>\n",
       "      <td id=\"T_c8bc0_row1_col3\" class=\"data row1 col3\" >175</td>\n",
       "      <td id=\"T_c8bc0_row1_col4\" class=\"data row1 col4\" >153</td>\n",
       "      <td id=\"T_c8bc0_row1_col5\" class=\"data row1 col5\" >86</td>\n",
       "      <td id=\"T_c8bc0_row1_col6\" class=\"data row1 col6\" >126</td>\n",
       "      <td id=\"T_c8bc0_row1_col7\" class=\"data row1 col7\" >26</td>\n",
       "      <td id=\"T_c8bc0_row1_col8\" class=\"data row1 col8\" >78</td>\n",
       "    </tr>\n",
       "    <tr>\n",
       "      <th id=\"T_c8bc0_level0_row2\" class=\"row_heading level0 row2\" >B</th>\n",
       "      <td id=\"T_c8bc0_row2_col0\" class=\"data row2 col0\" >191</td>\n",
       "      <td id=\"T_c8bc0_row2_col1\" class=\"data row2 col1\" >0</td>\n",
       "      <td id=\"T_c8bc0_row2_col2\" class=\"data row2 col2\" >51</td>\n",
       "      <td id=\"T_c8bc0_row2_col3\" class=\"data row2 col3\" >74</td>\n",
       "      <td id=\"T_c8bc0_row2_col4\" class=\"data row2 col4\" >153</td>\n",
       "      <td id=\"T_c8bc0_row2_col5\" class=\"data row2 col5\" >40</td>\n",
       "      <td id=\"T_c8bc0_row2_col6\" class=\"data row2 col6\" >184</td>\n",
       "      <td id=\"T_c8bc0_row2_col7\" class=\"data row2 col7\" >28</td>\n",
       "      <td id=\"T_c8bc0_row2_col8\" class=\"data row2 col8\" >163</td>\n",
       "    </tr>\n",
       "  </tbody>\n",
       "</table>\n"
      ],
      "text/plain": [
       "<pandas.io.formats.style.Styler at 0x105479dc0>"
      ]
     },
     "metadata": {},
     "output_type": "display_data"
    },
    {
     "data": {
      "text/html": [
       "<style type=\"text/css\">\n",
       "#T_5e501_row0_col0, #T_5e501_row1_col0, #T_5e501_row2_col0 {\n",
       "  background-color: RGB(255,127,0);\n",
       "}\n",
       "#T_5e501_row0_col1, #T_5e501_row1_col1, #T_5e501_row2_col1 {\n",
       "  background-color: RGB(55,126,184);\n",
       "}\n",
       "#T_5e501_row0_col2, #T_5e501_row1_col2, #T_5e501_row2_col2 {\n",
       "  background-color: RGB(153,153,153);\n",
       "}\n",
       "#T_5e501_row0_col3, #T_5e501_row1_col3, #T_5e501_row2_col3 {\n",
       "  background-color: RGB(247,129,191);\n",
       "}\n",
       "#T_5e501_row0_col4, #T_5e501_row1_col4, #T_5e501_row2_col4 {\n",
       "  background-color: RGB(228,26,28);\n",
       "}\n",
       "#T_5e501_row0_col5, #T_5e501_row1_col5, #T_5e501_row2_col5 {\n",
       "  background-color: RGB(77,175,74);\n",
       "}\n",
       "#T_5e501_row0_col6, #T_5e501_row1_col6, #T_5e501_row2_col6 {\n",
       "  background-color: RGB(255,255,51);\n",
       "}\n",
       "#T_5e501_row0_col7, #T_5e501_row1_col7, #T_5e501_row2_col7 {\n",
       "  background-color: RGB(152,78,163);\n",
       "}\n",
       "#T_5e501_row0_col8, #T_5e501_row1_col8, #T_5e501_row2_col8 {\n",
       "  background-color: RGB(166,86,40);\n",
       "}\n",
       "</style>\n",
       "<table id=\"T_5e501\">\n",
       "  <thead>\n",
       "    <tr>\n",
       "      <th class=\"blank level0\" >&nbsp;</th>\n",
       "      <th id=\"T_5e501_level0_col0\" class=\"col_heading level0 col0\" >0</th>\n",
       "      <th id=\"T_5e501_level0_col1\" class=\"col_heading level0 col1\" >1</th>\n",
       "      <th id=\"T_5e501_level0_col2\" class=\"col_heading level0 col2\" >2</th>\n",
       "      <th id=\"T_5e501_level0_col3\" class=\"col_heading level0 col3\" >3</th>\n",
       "      <th id=\"T_5e501_level0_col4\" class=\"col_heading level0 col4\" >4</th>\n",
       "      <th id=\"T_5e501_level0_col5\" class=\"col_heading level0 col5\" >5</th>\n",
       "      <th id=\"T_5e501_level0_col6\" class=\"col_heading level0 col6\" >6</th>\n",
       "      <th id=\"T_5e501_level0_col7\" class=\"col_heading level0 col7\" >7</th>\n",
       "      <th id=\"T_5e501_level0_col8\" class=\"col_heading level0 col8\" >8</th>\n",
       "    </tr>\n",
       "  </thead>\n",
       "  <tbody>\n",
       "    <tr>\n",
       "      <th id=\"T_5e501_level0_row0\" class=\"row_heading level0 row0\" >R</th>\n",
       "      <td id=\"T_5e501_row0_col0\" class=\"data row0 col0\" >255</td>\n",
       "      <td id=\"T_5e501_row0_col1\" class=\"data row0 col1\" >55</td>\n",
       "      <td id=\"T_5e501_row0_col2\" class=\"data row0 col2\" >153</td>\n",
       "      <td id=\"T_5e501_row0_col3\" class=\"data row0 col3\" >247</td>\n",
       "      <td id=\"T_5e501_row0_col4\" class=\"data row0 col4\" >228</td>\n",
       "      <td id=\"T_5e501_row0_col5\" class=\"data row0 col5\" >77</td>\n",
       "      <td id=\"T_5e501_row0_col6\" class=\"data row0 col6\" >255</td>\n",
       "      <td id=\"T_5e501_row0_col7\" class=\"data row0 col7\" >152</td>\n",
       "      <td id=\"T_5e501_row0_col8\" class=\"data row0 col8\" >166</td>\n",
       "    </tr>\n",
       "    <tr>\n",
       "      <th id=\"T_5e501_level0_row1\" class=\"row_heading level0 row1\" >G</th>\n",
       "      <td id=\"T_5e501_row1_col0\" class=\"data row1 col0\" >127</td>\n",
       "      <td id=\"T_5e501_row1_col1\" class=\"data row1 col1\" >126</td>\n",
       "      <td id=\"T_5e501_row1_col2\" class=\"data row1 col2\" >153</td>\n",
       "      <td id=\"T_5e501_row1_col3\" class=\"data row1 col3\" >129</td>\n",
       "      <td id=\"T_5e501_row1_col4\" class=\"data row1 col4\" >26</td>\n",
       "      <td id=\"T_5e501_row1_col5\" class=\"data row1 col5\" >175</td>\n",
       "      <td id=\"T_5e501_row1_col6\" class=\"data row1 col6\" >255</td>\n",
       "      <td id=\"T_5e501_row1_col7\" class=\"data row1 col7\" >78</td>\n",
       "      <td id=\"T_5e501_row1_col8\" class=\"data row1 col8\" >86</td>\n",
       "    </tr>\n",
       "    <tr>\n",
       "      <th id=\"T_5e501_level0_row2\" class=\"row_heading level0 row2\" >B</th>\n",
       "      <td id=\"T_5e501_row2_col0\" class=\"data row2 col0\" >0</td>\n",
       "      <td id=\"T_5e501_row2_col1\" class=\"data row2 col1\" >184</td>\n",
       "      <td id=\"T_5e501_row2_col2\" class=\"data row2 col2\" >153</td>\n",
       "      <td id=\"T_5e501_row2_col3\" class=\"data row2 col3\" >191</td>\n",
       "      <td id=\"T_5e501_row2_col4\" class=\"data row2 col4\" >28</td>\n",
       "      <td id=\"T_5e501_row2_col5\" class=\"data row2 col5\" >74</td>\n",
       "      <td id=\"T_5e501_row2_col6\" class=\"data row2 col6\" >51</td>\n",
       "      <td id=\"T_5e501_row2_col7\" class=\"data row2 col7\" >163</td>\n",
       "      <td id=\"T_5e501_row2_col8\" class=\"data row2 col8\" >40</td>\n",
       "    </tr>\n",
       "  </tbody>\n",
       "</table>\n"
      ],
      "text/plain": [
       "<pandas.io.formats.style.Styler at 0x16630a910>"
      ]
     },
     "metadata": {},
     "output_type": "display_data"
    }
   ],
   "source": [
    "squares = '247,129,191,255,127,0,255,255,51,77,175,74,153,153,153,166,86,40,55,126,184,228,26,28,152,78,163'\n",
    "circles = '255,127,0,55,126,184,153,153,153,247,129,191,228,26,28,77,175,74,255,255,51,152,78,163,166,86,40'\n",
    "ans = squares + \",\" + circles\n",
    "show_colors(ans)"
   ]
  },
  {
   "cell_type": "code",
   "execution_count": null,
   "metadata": {},
   "outputs": [],
   "source": [
    "\n",
    "\n",
    "\n",
    "\n"
   ]
  },
  {
   "cell_type": "markdown",
   "metadata": {},
   "source": [
    "##### Made Possible By\n",
    "\n",
    "<img width=\"75px\" src=\"./static/OrangSquare_withText.png\"></img><img width=\"50px\" src=\"./static/blank.png\"></img><img width=\"110px\" src=\"./static/USMA_CRC.png\"></img>\n"
   ]
  },
  {
   "cell_type": "code",
   "execution_count": null,
   "metadata": {},
   "outputs": [],
   "source": []
  }
 ],
 "metadata": {
  "kernelspec": {
   "display_name": "Python 3 (ipykernel)",
   "language": "python",
   "name": "python3"
  },
  "language_info": {
   "codemirror_mode": {
    "name": "ipython",
    "version": 3
   },
   "file_extension": ".py",
   "mimetype": "text/x-python",
   "name": "python",
   "nbconvert_exporter": "python",
   "pygments_lexer": "ipython3",
   "version": "3.9.2"
  }
 },
 "nbformat": 4,
 "nbformat_minor": 4
}
